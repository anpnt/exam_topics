{
 "cells": [
  {
   "cell_type": "markdown",
   "id": "084a8ab9",
   "metadata": {},
   "source": [
    "# Get list exam topics to excel file"
   ]
  },
  {
   "cell_type": "code",
   "execution_count": 20,
   "id": "0b41431f",
   "metadata": {},
   "outputs": [],
   "source": [
    "from bs4 import BeautifulSoup\n",
    "import requests\n",
    "from requests.adapters import HTTPAdapter\n",
    "from urllib3.util.retry import Retry\n",
    "from concurrent.futures import ThreadPoolExecutor, as_completed\n",
    "import pandas as pd\n",
    "import re\n",
    "from datetime import datetime\n",
    "\n",
    "def fetch_page(session, url):\n",
    "    try:\n",
    "        response = session.get(url)\n",
    "        response.raise_for_status()\n",
    "        soup = BeautifulSoup(response.content, 'html.parser')\n",
    "\n",
    "        discussion_rows = soup.find_all('div', class_='row discussion-row')\n",
    "        titles_links = [(row.find('a', class_='discussion-link').text.strip()\n",
    "                , row.find('a', class_='discussion-link')['href']\n",
    "                , row.find('p', class_='creation-info').find_all('i')[1].get_text(strip=True))\n",
    "                for row in discussion_rows]\n",
    "\n",
    "        return titles_links\n",
    "    except requests.RequestException as e:\n",
    "        print(f\"Error fetching {url}: {e}\")\n",
    "        return []\n",
    "\n",
    "def scrape_examtopics(exam, num_pages):\n",
    "    base_url = f\"https://www.examtopics.com/discussions/{exam}/\"\n",
    "    all_titles_links = []\n",
    "    with requests.Session() as session:\n",
    "        retries = Retry(total=5, backoff_factor=1, status_forcelist=[502, 503, 504])\n",
    "        session.mount('http://', HTTPAdapter(max_retries=retries))\n",
    "        session.mount('https://', HTTPAdapter(max_retries=retries))\n",
    "\n",
    "        urls = [f\"{base_url}/{page_num}/\" for page_num in range(1, num_pages + 1)]\n",
    "\n",
    "        with ThreadPoolExecutor(max_workers=10) as executor:\n",
    "            future_to_url = {executor.submit(fetch_page, session, url): url for url in urls}\n",
    "\n",
    "            for future in as_completed(future_to_url):\n",
    "                titles_links = future.result()\n",
    "                all_titles_links.extend(titles_links)\n",
    "\n",
    "    return all_titles_links, exam\n",
    "\n",
    "\n",
    "def save_to_excel(data, exam):\n",
    "    # Create a DataFrame\n",
    "    df = pd.DataFrame(data, columns=[\"title\", \"link\", \"load_date\"])\n",
    "    # Extract 'exam' and 'topic_question' from 'title'\n",
    "    df[\"exam\"] = df[\"title\"].str.split(\"topic\").str[0].str.strip()\n",
    "    df[\"topic_question\"] = df[\"title\"].str.split(\"topic\").str[1]\n",
    "    # Extract 'topic' and 'question' from 'topic_question'\n",
    "    df[\"topic\"] = df[\"topic_question\"].str.split(\"question\").str[0].astype(int)\n",
    "    df[\"question\"] = df[\"topic_question\"].str.split(\"question\").str[1].apply(lambda x: int(re.search(r\"(\\d+)\", x).group(1)))\n",
    "    # # Add 'load_date' column with the current date\n",
    "    # df[\"load_date\"] = datetime.now().date()\n",
    "    # Modify 'link' column to prepend the base URL\n",
    "    df[\"link\"] = \"https://www.examtopics.com\" + df[\"link\"]\n",
    "    # Select the desired columns\n",
    "    df = df[[\"load_date\", \"exam\", \"topic\", \"question\", \"link\"]]\n",
    "    # Sort the DataFrame by 'exam', 'topic', and 'question'\n",
    "    df = df.sort_values(by=[\"exam\", \"topic\", \"question\"])\n",
    "\n",
    "    path_file = f\"exam_topics_{exam}_{datetime.now().strftime(\"%Y%m%d\")}.xlsx\"\n",
    "    df.to_excel(path_file, index=False)\n",
    "    return print(f\"Data saved to {path_file}\")"
   ]
  },
  {
   "cell_type": "code",
   "execution_count": 7,
   "id": "ea9fd03f",
   "metadata": {},
   "outputs": [
    {
     "name": "stdout",
     "output_type": "stream",
     "text": [
      "Data saved to exam_topics_amazon_20250430.xlsx\n"
     ]
    }
   ],
   "source": [
    "# crawl the exam topics for AWS use 'amazon' as exam, for Databricks use 'databricks' as exam, for GCP use 'google' as exam, for Azure use 'microsoft' as exam,\n",
    "data, exam = scrape_examtopics(exam=\"amazon\", num_pages=557)\n",
    "save_to_excel(data, exam)"
   ]
  },
  {
   "cell_type": "code",
   "execution_count": 21,
   "id": "ad12b537",
   "metadata": {},
   "outputs": [
    {
     "name": "stdout",
     "output_type": "stream",
     "text": [
      "Data saved to exam_topics_databricks_20250619.xlsx\n"
     ]
    }
   ],
   "source": [
    "# crawl the exam topics for AWS use 'amazon' as exam, for Databricks use 'databricks' as exam, for GCP use 'google' as exam, for Azure use 'microsoft' as exam,\n",
    "data, exam = scrape_examtopics(exam=\"databricks\", num_pages=39)\n",
    "save_to_excel(data, exam)"
   ]
  },
  {
   "cell_type": "code",
   "execution_count": 22,
   "id": "5ad52d77",
   "metadata": {},
   "outputs": [
    {
     "name": "stdout",
     "output_type": "stream",
     "text": [
      "Data saved to exam_topics_microsoft_20250619.xlsx\n"
     ]
    }
   ],
   "source": [
    "# crawl the exam topics for AWS use 'amazon' as exam, for Databricks use 'databricks' as exam, for GCP use 'google' as exam, for Azure use 'microsoft' as exam,\n",
    "data, exam = scrape_examtopics(exam=\"microsoft\", num_pages=1383)\n",
    "save_to_excel(data, exam)"
   ]
  },
  {
   "cell_type": "markdown",
   "id": "fea13517",
   "metadata": {},
   "source": [
    "# Crawl detail exam questions and discussions"
   ]
  },
  {
   "cell_type": "code",
   "execution_count": 1,
   "id": "afd03f02",
   "metadata": {},
   "outputs": [],
   "source": [
    "import pandas as pd\n",
    "from bs4 import BeautifulSoup\n",
    "import requests\n",
    "import re\n",
    "from datetime import datetime\n",
    "\n",
    "# Function to extract the question and answer choices from the HTML content\n",
    "def extract_question_and_answers(excel_file, cert_name):\n",
    "    # Read the Excel file and get the column with URLs\n",
    "    df = pd.read_excel(excel_file)\n",
    "    # filter exam\n",
    "    df = df[df['exam'] == cert_name]\n",
    "    # order by question desc and from top 400 to top 200\n",
    "    #df = df.sort_values(by=['question'], ascending=False)\n",
    "    #df = df.iloc[0:1]\n",
    "    # Open a text file to write the final output\n",
    "    cert_name = cert_name.lower().strip().replace(\" \", \"_\").replace(\":\", \"_\")\n",
    "    output_file = f\"{cert_name}_{datetime.now().strftime(\"%Y%m%d\")}.txt\"\n",
    "    with open(output_file, \"w\", encoding=\"utf-8\") as file:\n",
    "        for url in df['link']:\n",
    "            try:\n",
    "                with requests.Session() as session:\n",
    "                    # Set up retries\n",
    "                    session.headers.update({'User-Agent': 'Mozilla/5.0'})\n",
    "                    response = session.get(url)\n",
    "                    response.raise_for_status()\n",
    "\n",
    "                    # Parse the HTML content\n",
    "                    soup = BeautifulSoup(response.content, 'html.parser')\n",
    "\n",
    "                    # Find the div with the \"new-comment-box\" class\n",
    "                    div = soup.find(\"div\", class_=\"new-comment-box\")\n",
    "\n",
    "                    # Extract the value of the data-title attribute\n",
    "                    data_title = div[\"data-title\"] if div and \"data-title\" in div.attrs else \"\"\n",
    "\n",
    "                    # Find the upload date in the discussion-meta-data div\n",
    "                    meta_div = soup.find(\"div\", class_=\"discussion-meta-data\")\n",
    "                    i_tags = meta_div.find_all(\"i\")\n",
    "                    upload_date = i_tags[-1].text.strip() if i_tags else \"\"\n",
    "                    data_title = f\"{data_title} - {upload_date}\"\n",
    "\n",
    "                    # Extract the question text\n",
    "                    p_tag = soup.find('p', class_='card-text')\n",
    "                    text_parts = []\n",
    "                    if p_tag:\n",
    "                        for element in p_tag.contents:\n",
    "                            if isinstance(element, str):\n",
    "                                text_parts.append(element)\n",
    "                            elif element.name == 'br':\n",
    "                                text_parts.append('\\n')\n",
    "                            elif element.name == 'img':\n",
    "                                text_parts.append(element['src'])\n",
    "                    question_str = ''.join(text_parts)\n",
    "\n",
    "                    # Extract all answer choices\n",
    "                    answer_choices = [\n",
    "                        li.text.strip().replace('\\n', '').replace('\\r', '')\n",
    "                        for li in soup.find_all('li', class_='multi-choice-item')\n",
    "                    ]\n",
    "                    answer_choices_str = '\\n'.join(answer_choices)\n",
    "\n",
    "                    # Combine the data_title, question_str, and answer_choices_str\n",
    "                    final_str = f\"{data_title}\\n{question_str}\\n{answer_choices_str}\"\n",
    "\n",
    "                    # Process the text to remove extra spaces\n",
    "                    lines = final_str.splitlines()\n",
    "                    formatted_lines = [\" \".join(line.split()) for line in lines if line.strip()]\n",
    "                    formatted_text = \"\\n\".join(formatted_lines)\n",
    "\n",
    "                    # Find all badges with \"Highly Voted\"\n",
    "                    highly_voted_badges = soup.find_all(\"span\", class_=\"badge badge-primary\")\n",
    "                    comment_str = \"\"\n",
    "                    for badge in highly_voted_badges:\n",
    "                        if \"Highly Voted\" in badge.text:\n",
    "                            comment_container = badge.find_parent(\"div\", class_=\"comment-container\")\n",
    "                            if comment_container:\n",
    "                                comment_content = comment_container.find(\"div\", class_=\"comment-content\")\n",
    "                                if comment_content:\n",
    "                                    comment_str += (\n",
    "                                        \"Highly Voted comment found!\\n\"\n",
    "                                        + comment_content.text.strip()\n",
    "                                        + \"\\n******************************\\n\"\n",
    "                                    )\n",
    "\n",
    "                    # Combine the formatted text and comment string\n",
    "                    final_output = f\"{formatted_text}\\n\\n{comment_str}\"\n",
    "\n",
    "                    # Write the final output to the text file\n",
    "                    file.write(final_output + \"\\n\\n======================================================================================\\n\\n\")\n",
    "            except Exception as e:\n",
    "                print(f\"Error processing URL {url}: {e}\")"
   ]
  },
  {
   "cell_type": "code",
   "execution_count": 2,
   "id": "98d6878d",
   "metadata": {},
   "outputs": [],
   "source": [
    "extract_question_and_answers(excel_file=\"exam_topics_databricks_20250430.xlsx\", cert_name=\"Exam Certified Machine Learning Professional\")"
   ]
  },
  {
   "cell_type": "code",
   "execution_count": 10,
   "id": "157c6b6a",
   "metadata": {},
   "outputs": [],
   "source": [
    "extract_question_and_answers(excel_file=\"exam_topics_databricks_20250430.xlsx\", cert_name=\"Exam Certified Data Engineer Associate\")"
   ]
  },
  {
   "cell_type": "code",
   "execution_count": 11,
   "id": "8c63dc0d",
   "metadata": {},
   "outputs": [
    {
     "name": "stdout",
     "output_type": "stream",
     "text": [
      "Error processing URL https://www.examtopics.com/discussions/databricks/view/144256-exam-certified-data-engineer-professional-topic-1-question/: 503 Server Error: Service Unavailable for url: https://www.examtopics.com/discussions/databricks/view/144256-exam-certified-data-engineer-professional-topic-1-question/\n",
      "Error processing URL https://www.examtopics.com/discussions/databricks/view/141553-exam-certified-data-engineer-professional-topic-1-question/: 503 Server Error: Service Unavailable for url: https://www.examtopics.com/discussions/databricks/view/141553-exam-certified-data-engineer-professional-topic-1-question/\n",
      "Error processing URL https://www.examtopics.com/discussions/databricks/view/149836-exam-certified-data-engineer-professional-topic-1-question/: 503 Server Error: Service Unavailable for url: https://www.examtopics.com/discussions/databricks/view/149836-exam-certified-data-engineer-professional-topic-1-question/\n",
      "Error processing URL https://www.examtopics.com/discussions/databricks/view/142392-exam-certified-data-engineer-professional-topic-1-question/: 503 Server Error: Service Unavailable for url: https://www.examtopics.com/discussions/databricks/view/142392-exam-certified-data-engineer-professional-topic-1-question/\n",
      "Error processing URL https://www.examtopics.com/discussions/databricks/view/147917-exam-certified-data-engineer-professional-topic-1-question/: 503 Server Error: Service Unavailable for url: https://www.examtopics.com/discussions/databricks/view/147917-exam-certified-data-engineer-professional-topic-1-question/\n",
      "Error processing URL https://www.examtopics.com/discussions/databricks/view/142393-exam-certified-data-engineer-professional-topic-1-question/: 503 Server Error: Service Unavailable for url: https://www.examtopics.com/discussions/databricks/view/142393-exam-certified-data-engineer-professional-topic-1-question/\n",
      "Error processing URL https://www.examtopics.com/discussions/databricks/view/144263-exam-certified-data-engineer-professional-topic-1-question/: 503 Server Error: Service Unavailable for url: https://www.examtopics.com/discussions/databricks/view/144263-exam-certified-data-engineer-professional-topic-1-question/\n",
      "Error processing URL https://www.examtopics.com/discussions/databricks/view/142398-exam-certified-data-engineer-professional-topic-1-question/: 503 Server Error: Service Unavailable for url: https://www.examtopics.com/discussions/databricks/view/142398-exam-certified-data-engineer-professional-topic-1-question/\n",
      "Error processing URL https://www.examtopics.com/discussions/databricks/view/149882-exam-certified-data-engineer-professional-topic-1-question/: 503 Server Error: Service Unavailable for url: https://www.examtopics.com/discussions/databricks/view/149882-exam-certified-data-engineer-professional-topic-1-question/\n",
      "Error processing URL https://www.examtopics.com/discussions/databricks/view/141709-exam-certified-data-engineer-professional-topic-1-question/: 503 Server Error: Service Unavailable for url: https://www.examtopics.com/discussions/databricks/view/141709-exam-certified-data-engineer-professional-topic-1-question/\n",
      "Error processing URL https://www.examtopics.com/discussions/databricks/view/141708-exam-certified-data-engineer-professional-topic-1-question/: 503 Server Error: Service Unavailable for url: https://www.examtopics.com/discussions/databricks/view/141708-exam-certified-data-engineer-professional-topic-1-question/\n",
      "Error processing URL https://www.examtopics.com/discussions/databricks/view/141559-exam-certified-data-engineer-professional-topic-1-question/: 503 Server Error: Service Unavailable for url: https://www.examtopics.com/discussions/databricks/view/141559-exam-certified-data-engineer-professional-topic-1-question/\n",
      "Error processing URL https://www.examtopics.com/discussions/databricks/view/141706-exam-certified-data-engineer-professional-topic-1-question/: 503 Server Error: Service Unavailable for url: https://www.examtopics.com/discussions/databricks/view/141706-exam-certified-data-engineer-professional-topic-1-question/\n",
      "Error processing URL https://www.examtopics.com/discussions/databricks/view/141697-exam-certified-data-engineer-professional-topic-1-question/: 503 Server Error: Service Unavailable for url: https://www.examtopics.com/discussions/databricks/view/141697-exam-certified-data-engineer-professional-topic-1-question/\n",
      "Error processing URL https://www.examtopics.com/discussions/databricks/view/152629-exam-certified-data-engineer-professional-topic-1-question/: 503 Server Error: Service Unavailable for url: https://www.examtopics.com/discussions/databricks/view/152629-exam-certified-data-engineer-professional-topic-1-question/\n",
      "Error processing URL https://www.examtopics.com/discussions/databricks/view/152581-exam-certified-data-engineer-professional-topic-1-question/: 503 Server Error: Service Unavailable for url: https://www.examtopics.com/discussions/databricks/view/152581-exam-certified-data-engineer-professional-topic-1-question/\n",
      "Error processing URL https://www.examtopics.com/discussions/databricks/view/152716-exam-certified-data-engineer-professional-topic-1-question/: 503 Server Error: Service Unavailable for url: https://www.examtopics.com/discussions/databricks/view/152716-exam-certified-data-engineer-professional-topic-1-question/\n"
     ]
    }
   ],
   "source": [
    "extract_question_and_answers(excel_file=\"exam_topics_databricks_20250430.xlsx\", cert_name=\"Exam Certified Data Engineer Professional\")"
   ]
  },
  {
   "cell_type": "code",
   "execution_count": 3,
   "id": "9e6f9bbf",
   "metadata": {},
   "outputs": [],
   "source": [
    "extract_question_and_answers(excel_file=\"exam_topics_databricks_20250430.xlsx\", cert_name=\"Exam Certified Associate Developer for Apache Spark\")"
   ]
  },
  {
   "cell_type": "code",
   "execution_count": 2,
   "id": "af80471c",
   "metadata": {},
   "outputs": [
    {
     "name": "stdout",
     "output_type": "stream",
     "text": [
      "Error processing URL https://www.examtopics.com/discussions/google/view/130220-exam-professional-data-engineer-topic-1-question-270/: 503 Server Error: Service Unavailable for url: https://www.examtopics.com/discussions/google/view/130220-exam-professional-data-engineer-topic-1-question-270/\n",
      "Error processing URL https://www.examtopics.com/discussions/google/view/130262-exam-professional-data-engineer-topic-1-question-277/: 503 Server Error: Service Unavailable for url: https://www.examtopics.com/discussions/google/view/130262-exam-professional-data-engineer-topic-1-question-277/\n",
      "Error processing URL https://www.examtopics.com/discussions/google/view/130263-exam-professional-data-engineer-topic-1-question-278/: 503 Server Error: Service Unavailable for url: https://www.examtopics.com/discussions/google/view/130263-exam-professional-data-engineer-topic-1-question-278/\n",
      "Error processing URL https://www.examtopics.com/discussions/google/view/129911-exam-professional-data-engineer-topic-1-question-298/: 503 Server Error: Service Unavailable for url: https://www.examtopics.com/discussions/google/view/129911-exam-professional-data-engineer-topic-1-question-298/\n",
      "Error processing URL https://www.examtopics.com/discussions/google/view/130328-exam-professional-data-engineer-topic-1-question-299/: 503 Server Error: Service Unavailable for url: https://www.examtopics.com/discussions/google/view/130328-exam-professional-data-engineer-topic-1-question-299/\n",
      "Error processing URL https://www.examtopics.com/discussions/google/view/130318-exam-professional-data-engineer-topic-1-question-300/: 503 Server Error: Service Unavailable for url: https://www.examtopics.com/discussions/google/view/130318-exam-professional-data-engineer-topic-1-question-300/\n",
      "Error processing URL https://www.examtopics.com/discussions/google/view/129913-exam-professional-data-engineer-topic-1-question-301/: 503 Server Error: Service Unavailable for url: https://www.examtopics.com/discussions/google/view/129913-exam-professional-data-engineer-topic-1-question-301/\n",
      "Error processing URL https://www.examtopics.com/discussions/google/view/130326-exam-professional-data-engineer-topic-1-question-303/: 503 Server Error: Service Unavailable for url: https://www.examtopics.com/discussions/google/view/130326-exam-professional-data-engineer-topic-1-question-303/\n",
      "Error processing URL https://www.examtopics.com/discussions/google/view/130321-exam-professional-data-engineer-topic-1-question-306/: 503 Server Error: Service Unavailable for url: https://www.examtopics.com/discussions/google/view/130321-exam-professional-data-engineer-topic-1-question-306/\n",
      "Error processing URL https://www.examtopics.com/discussions/google/view/130319-exam-professional-data-engineer-topic-1-question-308/: 503 Server Error: Service Unavailable for url: https://www.examtopics.com/discussions/google/view/130319-exam-professional-data-engineer-topic-1-question-308/\n",
      "Error processing URL https://www.examtopics.com/discussions/google/view/153019-exam-professional-data-engineer-topic-1-question-312/: 503 Server Error: Service Unavailable for url: https://www.examtopics.com/discussions/google/view/153019-exam-professional-data-engineer-topic-1-question-312/\n",
      "Error processing URL https://www.examtopics.com/discussions/google/view/153398-exam-professional-data-engineer-topic-1-question-314/: 503 Server Error: Service Unavailable for url: https://www.examtopics.com/discussions/google/view/153398-exam-professional-data-engineer-topic-1-question-314/\n",
      "Error processing URL https://www.examtopics.com/discussions/google/view/153174-exam-professional-data-engineer-topic-1-question-316/: 503 Server Error: Service Unavailable for url: https://www.examtopics.com/discussions/google/view/153174-exam-professional-data-engineer-topic-1-question-316/\n"
     ]
    }
   ],
   "source": [
    "extract_question_and_answers(excel_file=\"exam_topics_google_20250430.xlsx\", cert_name=\"Exam Professional Data Engineer\")"
   ]
  },
  {
   "cell_type": "code",
   "execution_count": 3,
   "id": "3f07d2f2",
   "metadata": {},
   "outputs": [],
   "source": [
    "extract_question_and_answers(excel_file=\"exam_topics_google_20250430.xlsx\", cert_name=\"Exam Associate Data Practitioner\")"
   ]
  },
  {
   "cell_type": "code",
   "execution_count": null,
   "id": "56bf37f0",
   "metadata": {},
   "outputs": [],
   "source": [
    "extract_question_and_answers(excel_file=\"exam_topics_amazon_20250430.xlsx\", cert_name=\"Exam AWS Certified Solutions Architect - Associate SAA-C03\")"
   ]
  },
  {
   "cell_type": "code",
   "execution_count": 2,
   "id": "ab2433d6",
   "metadata": {},
   "outputs": [],
   "source": [
    "extract_question_and_answers(excel_file=\"exam_topics_amazon_20250430.xlsx\", cert_name=\"Exam AWS Certified Developer - Associate DVA-C02\")"
   ]
  },
  {
   "cell_type": "code",
   "execution_count": 10,
   "id": "8e37e152",
   "metadata": {},
   "outputs": [],
   "source": [
    "extract_question_and_answers(excel_file=\"microsoft_examtopics_20250324 (1).xlsx\", cert_name=\"Exam AI-900 \")"
   ]
  },
  {
   "cell_type": "code",
   "execution_count": 10,
   "id": "32c5e350",
   "metadata": {},
   "outputs": [],
   "source": [
    "extract_question_and_answers(excel_file=\"microsoft_examtopics_20250324 (1).xlsx\", cert_name=\"Exam PL-300 \")"
   ]
  },
  {
   "cell_type": "code",
   "execution_count": 2,
   "id": "8fbd87a4",
   "metadata": {},
   "outputs": [],
   "source": [
    "extract_question_and_answers(excel_file=\"microsoft_examtopics_20250324 (1).xlsx\", cert_name=\"Exam DP-900 \")"
   ]
  }
 ],
 "metadata": {
  "kernelspec": {
   "display_name": "Python 3",
   "language": "python",
   "name": "python3"
  },
  "language_info": {
   "codemirror_mode": {
    "name": "ipython",
    "version": 3
   },
   "file_extension": ".py",
   "mimetype": "text/x-python",
   "name": "python",
   "nbconvert_exporter": "python",
   "pygments_lexer": "ipython3",
   "version": "3.12.1"
  }
 },
 "nbformat": 4,
 "nbformat_minor": 5
}
